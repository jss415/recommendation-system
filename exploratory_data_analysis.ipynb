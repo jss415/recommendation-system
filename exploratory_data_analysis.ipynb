{
 "cells": [
  {
   "cell_type": "markdown",
   "id": "0eef394a-a203-4e2d-b025-ced301e9a9a3",
   "metadata": {},
   "source": [
    "# Exploratory Data Analysis\n",
    "Author: Group 22"
   ]
  },
  {
   "cell_type": "markdown",
   "id": "aef45a08-6085-4bea-b233-068371e49f97",
   "metadata": {},
   "source": [
    "## Import important libraries for data analysis"
   ]
  },
  {
   "cell_type": "code",
   "execution_count": 2,
   "id": "71090798-d180-4b64-8d0e-61dc8a783176",
   "metadata": {},
   "outputs": [],
   "source": [
    "import pandas as pd\n",
    "import numpy as np\n",
    "from datetime import datetime\n",
    "import matplotlib.pyplot as plt"
   ]
  },
  {
   "cell_type": "markdown",
   "id": "b4361dd1-1f04-4d9f-8129-e227cb35a838",
   "metadata": {},
   "source": [
    "## Dataset Schema"
   ]
  },
  {
   "cell_type": "code",
   "execution_count": 66,
   "id": "c78a2a5a-53d7-48ed-a83c-6004ad39eedb",
   "metadata": {},
   "outputs": [
    {
     "data": {
      "text/plain": [
       "'\\n\\nratings.dat:\\n\\nField       Description\\nUserID      Unique identification for each user\\nMovieID     Unique identification for each movie\\nRating      User rating for each movie\\nTimestamp   Timestamp generated while adding user review\\n\\n\\nusers.data:\\n\\nField       Description\\nUserID      Unique identification for each user\\nGenre       Category of each movie\\nAge         User’s age\\nOccupation  User’s Occupation\\nZip-code    Zip Code for the user’s location\\n\\n\\nmovies.dat:\\n\\nField       Description\\nMovieID     Unique identification for each movie\\nTitle       A title for each movie\\nGenre       Category of each movie\\n\\n\\n'"
      ]
     },
     "execution_count": 66,
     "metadata": {},
     "output_type": "execute_result"
    }
   ],
   "source": [
    "\"\"\"\n",
    "Files downloaded from: https://grouplens.org/datasets/movielens/1m/\n",
    "\n",
    "These files contain 1,000,209 anonymous ratings of approximately 3,900 movies made by 6,040 MovieLens users who joined MovieLens in 2000.\n",
    "\n",
    "\"\"\"\n",
    "\n",
    "\"\"\"\n",
    "\n",
    "ratings.dat:\n",
    "\n",
    "Field       Description\n",
    "UserID      Unique identification for each user\n",
    "MovieID     Unique identification for each movie\n",
    "Rating      User rating for each movie\n",
    "Timestamp   Timestamp generated while adding user review\n",
    "\n",
    "\n",
    "users.data:\n",
    "\n",
    "Field       Description\n",
    "UserID      Unique identification for each user\n",
    "Genre       Category of each movie\n",
    "Age         User’s age\n",
    "Occupation  User’s Occupation\n",
    "Zip-code    Zip Code for the user’s location\n",
    "\n",
    "\n",
    "movies.dat:\n",
    "\n",
    "Field       Description\n",
    "MovieID     Unique identification for each movie\n",
    "Title       A title for each movie\n",
    "Genre       Category of each movie\n",
    "\n",
    "\n",
    "\"\"\""
   ]
  },
  {
   "cell_type": "code",
   "execution_count": 67,
   "id": "abbb658a-4004-4704-9d8f-f282ad187918",
   "metadata": {},
   "outputs": [],
   "source": [
    "ratings = \"ratings.dat\"\n",
    "users = \"users.dat\"\n",
    "movies = \"movies.dat\""
   ]
  },
  {
   "cell_type": "markdown",
   "id": "dbc00380-73ea-4200-b5f9-3c717a62020e",
   "metadata": {},
   "source": [
    "## Reading Movielens dataset"
   ]
  },
  {
   "cell_type": "code",
   "execution_count": 5,
   "id": "b706e98e-5718-4d6e-86da-930629bcce8b",
   "metadata": {},
   "outputs": [
    {
     "name": "stderr",
     "output_type": "stream",
     "text": [
      "/tmp/ipykernel_886008/1231300361.py:1: ParserWarning: Falling back to the 'python' engine because the 'c' engine does not support regex separators (separators > 1 char and different from '\\s+' are interpreted as regex); you can avoid this warning by specifying engine='python'.\n",
      "  df_rating = pd.read_csv(\n"
     ]
    }
   ],
   "source": [
    "df_rating = pd.read_csv(\n",
    "    ratings,\n",
    "    sep=\"::\",\n",
    "    header=None, \n",
    "    names=['user_id', 'movie_id', 'rating', 'timestamp']\n",
    ")\n",
    "\n"
   ]
  },
  {
   "cell_type": "code",
   "execution_count": 6,
   "id": "230e9af4-fa6f-41a1-b3f2-359fe23ba66d",
   "metadata": {},
   "outputs": [
    {
     "name": "stderr",
     "output_type": "stream",
     "text": [
      "/tmp/ipykernel_886008/3175063530.py:1: ParserWarning: Falling back to the 'python' engine because the 'c' engine does not support regex separators (separators > 1 char and different from '\\s+' are interpreted as regex); you can avoid this warning by specifying engine='python'.\n",
      "  df_user = pd.read_csv(\n"
     ]
    }
   ],
   "source": [
    "df_user = pd.read_csv(\n",
    "    users,\n",
    "    sep=\"::\",\n",
    "    header=None, \n",
    "    names=['user_id', 'gender', 'age', 'occupation', 'zipcode']\n",
    ")"
   ]
  },
  {
   "cell_type": "code",
   "execution_count": 7,
   "id": "b0f9dc7d-3661-4e25-a890-c918b82ca3b1",
   "metadata": {},
   "outputs": [
    {
     "name": "stderr",
     "output_type": "stream",
     "text": [
      "/tmp/ipykernel_886008/484467727.py:1: ParserWarning: Falling back to the 'python' engine because the 'c' engine does not support regex separators (separators > 1 char and different from '\\s+' are interpreted as regex); you can avoid this warning by specifying engine='python'.\n",
      "  df_movie = pd.read_csv(\n"
     ]
    }
   ],
   "source": [
    "df_movie = pd.read_csv(\n",
    "    movies, \n",
    "    sep='::', \n",
    "    header=None, \n",
    "    names=['movie_id', 'title', 'genre'], \n",
    "    encoding = \"ISO-8859-1\")"
   ]
  },
  {
   "cell_type": "markdown",
   "id": "59420453-8bdb-4c63-b2c9-7b1bdf4cbf71",
   "metadata": {},
   "source": [
    "## Part 1: Analyzing Rating Data"
   ]
  },
  {
   "cell_type": "code",
   "execution_count": 8,
   "id": "0d1f17df-1814-4017-88d3-8f2b90e4af71",
   "metadata": {},
   "outputs": [
    {
     "data": {
      "text/html": [
       "<div>\n",
       "<style scoped>\n",
       "    .dataframe tbody tr th:only-of-type {\n",
       "        vertical-align: middle;\n",
       "    }\n",
       "\n",
       "    .dataframe tbody tr th {\n",
       "        vertical-align: top;\n",
       "    }\n",
       "\n",
       "    .dataframe thead th {\n",
       "        text-align: right;\n",
       "    }\n",
       "</style>\n",
       "<table border=\"1\" class=\"dataframe\">\n",
       "  <thead>\n",
       "    <tr style=\"text-align: right;\">\n",
       "      <th></th>\n",
       "      <th>user_id</th>\n",
       "      <th>movie_id</th>\n",
       "      <th>rating</th>\n",
       "      <th>timestamp</th>\n",
       "    </tr>\n",
       "  </thead>\n",
       "  <tbody>\n",
       "    <tr>\n",
       "      <th>0</th>\n",
       "      <td>1</td>\n",
       "      <td>1193</td>\n",
       "      <td>5</td>\n",
       "      <td>978300760</td>\n",
       "    </tr>\n",
       "    <tr>\n",
       "      <th>1</th>\n",
       "      <td>1</td>\n",
       "      <td>661</td>\n",
       "      <td>3</td>\n",
       "      <td>978302109</td>\n",
       "    </tr>\n",
       "    <tr>\n",
       "      <th>2</th>\n",
       "      <td>1</td>\n",
       "      <td>914</td>\n",
       "      <td>3</td>\n",
       "      <td>978301968</td>\n",
       "    </tr>\n",
       "    <tr>\n",
       "      <th>3</th>\n",
       "      <td>1</td>\n",
       "      <td>3408</td>\n",
       "      <td>4</td>\n",
       "      <td>978300275</td>\n",
       "    </tr>\n",
       "    <tr>\n",
       "      <th>4</th>\n",
       "      <td>1</td>\n",
       "      <td>2355</td>\n",
       "      <td>5</td>\n",
       "      <td>978824291</td>\n",
       "    </tr>\n",
       "  </tbody>\n",
       "</table>\n",
       "</div>"
      ],
      "text/plain": [
       "   user_id  movie_id  rating  timestamp\n",
       "0        1      1193       5  978300760\n",
       "1        1       661       3  978302109\n",
       "2        1       914       3  978301968\n",
       "3        1      3408       4  978300275\n",
       "4        1      2355       5  978824291"
      ]
     },
     "execution_count": 8,
     "metadata": {},
     "output_type": "execute_result"
    }
   ],
   "source": [
    "df_rating.head()"
   ]
  },
  {
   "cell_type": "code",
   "execution_count": 9,
   "id": "669cf7d7-3e2c-45d6-9ef5-494e0dd66a04",
   "metadata": {},
   "outputs": [
    {
     "data": {
      "text/html": [
       "<div>\n",
       "<style scoped>\n",
       "    .dataframe tbody tr th:only-of-type {\n",
       "        vertical-align: middle;\n",
       "    }\n",
       "\n",
       "    .dataframe tbody tr th {\n",
       "        vertical-align: top;\n",
       "    }\n",
       "\n",
       "    .dataframe thead th {\n",
       "        text-align: right;\n",
       "    }\n",
       "</style>\n",
       "<table border=\"1\" class=\"dataframe\">\n",
       "  <thead>\n",
       "    <tr style=\"text-align: right;\">\n",
       "      <th></th>\n",
       "      <th>user_id</th>\n",
       "      <th>gender</th>\n",
       "      <th>age</th>\n",
       "      <th>occupation</th>\n",
       "      <th>zipcode</th>\n",
       "    </tr>\n",
       "  </thead>\n",
       "  <tbody>\n",
       "    <tr>\n",
       "      <th>0</th>\n",
       "      <td>1</td>\n",
       "      <td>F</td>\n",
       "      <td>1</td>\n",
       "      <td>10</td>\n",
       "      <td>48067</td>\n",
       "    </tr>\n",
       "    <tr>\n",
       "      <th>1</th>\n",
       "      <td>2</td>\n",
       "      <td>M</td>\n",
       "      <td>56</td>\n",
       "      <td>16</td>\n",
       "      <td>70072</td>\n",
       "    </tr>\n",
       "    <tr>\n",
       "      <th>2</th>\n",
       "      <td>3</td>\n",
       "      <td>M</td>\n",
       "      <td>25</td>\n",
       "      <td>15</td>\n",
       "      <td>55117</td>\n",
       "    </tr>\n",
       "    <tr>\n",
       "      <th>3</th>\n",
       "      <td>4</td>\n",
       "      <td>M</td>\n",
       "      <td>45</td>\n",
       "      <td>7</td>\n",
       "      <td>02460</td>\n",
       "    </tr>\n",
       "    <tr>\n",
       "      <th>4</th>\n",
       "      <td>5</td>\n",
       "      <td>M</td>\n",
       "      <td>25</td>\n",
       "      <td>20</td>\n",
       "      <td>55455</td>\n",
       "    </tr>\n",
       "  </tbody>\n",
       "</table>\n",
       "</div>"
      ],
      "text/plain": [
       "   user_id gender  age  occupation zipcode\n",
       "0        1      F    1          10   48067\n",
       "1        2      M   56          16   70072\n",
       "2        3      M   25          15   55117\n",
       "3        4      M   45           7   02460\n",
       "4        5      M   25          20   55455"
      ]
     },
     "execution_count": 9,
     "metadata": {},
     "output_type": "execute_result"
    }
   ],
   "source": [
    "df_user.head()"
   ]
  },
  {
   "cell_type": "code",
   "execution_count": 10,
   "id": "33e7a35f-dc47-4b5c-8a4d-6ede2027590c",
   "metadata": {},
   "outputs": [
    {
     "data": {
      "text/html": [
       "<div>\n",
       "<style scoped>\n",
       "    .dataframe tbody tr th:only-of-type {\n",
       "        vertical-align: middle;\n",
       "    }\n",
       "\n",
       "    .dataframe tbody tr th {\n",
       "        vertical-align: top;\n",
       "    }\n",
       "\n",
       "    .dataframe thead th {\n",
       "        text-align: right;\n",
       "    }\n",
       "</style>\n",
       "<table border=\"1\" class=\"dataframe\">\n",
       "  <thead>\n",
       "    <tr style=\"text-align: right;\">\n",
       "      <th></th>\n",
       "      <th>movie_id</th>\n",
       "      <th>title</th>\n",
       "      <th>genre</th>\n",
       "    </tr>\n",
       "  </thead>\n",
       "  <tbody>\n",
       "    <tr>\n",
       "      <th>0</th>\n",
       "      <td>1</td>\n",
       "      <td>Toy Story (1995)</td>\n",
       "      <td>Animation|Children's|Comedy</td>\n",
       "    </tr>\n",
       "    <tr>\n",
       "      <th>1</th>\n",
       "      <td>2</td>\n",
       "      <td>Jumanji (1995)</td>\n",
       "      <td>Adventure|Children's|Fantasy</td>\n",
       "    </tr>\n",
       "    <tr>\n",
       "      <th>2</th>\n",
       "      <td>3</td>\n",
       "      <td>Grumpier Old Men (1995)</td>\n",
       "      <td>Comedy|Romance</td>\n",
       "    </tr>\n",
       "    <tr>\n",
       "      <th>3</th>\n",
       "      <td>4</td>\n",
       "      <td>Waiting to Exhale (1995)</td>\n",
       "      <td>Comedy|Drama</td>\n",
       "    </tr>\n",
       "    <tr>\n",
       "      <th>4</th>\n",
       "      <td>5</td>\n",
       "      <td>Father of the Bride Part II (1995)</td>\n",
       "      <td>Comedy</td>\n",
       "    </tr>\n",
       "  </tbody>\n",
       "</table>\n",
       "</div>"
      ],
      "text/plain": [
       "   movie_id                               title                         genre\n",
       "0         1                    Toy Story (1995)   Animation|Children's|Comedy\n",
       "1         2                      Jumanji (1995)  Adventure|Children's|Fantasy\n",
       "2         3             Grumpier Old Men (1995)                Comedy|Romance\n",
       "3         4            Waiting to Exhale (1995)                  Comedy|Drama\n",
       "4         5  Father of the Bride Part II (1995)                        Comedy"
      ]
     },
     "execution_count": 10,
     "metadata": {},
     "output_type": "execute_result"
    }
   ],
   "source": [
    "df_movie.head()"
   ]
  },
  {
   "cell_type": "code",
   "execution_count": 11,
   "id": "1b1e2b9e-ab52-4dbc-9830-6f4ba2668ac0",
   "metadata": {},
   "outputs": [
    {
     "name": "stdout",
     "output_type": "stream",
     "text": [
      "<class 'pandas.core.frame.DataFrame'>\n",
      "RangeIndex: 1000209 entries, 0 to 1000208\n",
      "Data columns (total 4 columns):\n",
      " #   Column     Non-Null Count    Dtype\n",
      "---  ------     --------------    -----\n",
      " 0   user_id    1000209 non-null  int64\n",
      " 1   movie_id   1000209 non-null  int64\n",
      " 2   rating     1000209 non-null  int64\n",
      " 3   timestamp  1000209 non-null  int64\n",
      "dtypes: int64(4)\n",
      "memory usage: 30.5 MB\n"
     ]
    }
   ],
   "source": [
    "df_rating.info()"
   ]
  },
  {
   "cell_type": "code",
   "execution_count": 12,
   "id": "05aa323f-bfa7-49ca-bd25-b040fc9854e2",
   "metadata": {},
   "outputs": [],
   "source": [
    "df_rating['timestamp'] = df_rating['timestamp'].apply(datetime.fromtimestamp)"
   ]
  },
  {
   "cell_type": "code",
   "execution_count": 13,
   "id": "0a525b49-8797-490b-ace8-a976581de97e",
   "metadata": {},
   "outputs": [],
   "source": [
    "df_rating['year'] = df_rating['timestamp'].dt.year\n",
    "df_rating['month'] = df_rating['timestamp'].dt.month\n",
    "df_rating['date'] = df_rating['timestamp'].dt.date"
   ]
  },
  {
   "cell_type": "code",
   "execution_count": 14,
   "id": "55057743-e994-4869-8a0d-e98ecc558a73",
   "metadata": {},
   "outputs": [
    {
     "data": {
      "text/html": [
       "<div>\n",
       "<style scoped>\n",
       "    .dataframe tbody tr th:only-of-type {\n",
       "        vertical-align: middle;\n",
       "    }\n",
       "\n",
       "    .dataframe tbody tr th {\n",
       "        vertical-align: top;\n",
       "    }\n",
       "\n",
       "    .dataframe thead th {\n",
       "        text-align: right;\n",
       "    }\n",
       "</style>\n",
       "<table border=\"1\" class=\"dataframe\">\n",
       "  <thead>\n",
       "    <tr style=\"text-align: right;\">\n",
       "      <th></th>\n",
       "      <th>user_id</th>\n",
       "      <th>movie_id</th>\n",
       "      <th>rating</th>\n",
       "      <th>timestamp</th>\n",
       "      <th>year</th>\n",
       "      <th>month</th>\n",
       "      <th>date</th>\n",
       "    </tr>\n",
       "  </thead>\n",
       "  <tbody>\n",
       "    <tr>\n",
       "      <th>0</th>\n",
       "      <td>1</td>\n",
       "      <td>1193</td>\n",
       "      <td>5</td>\n",
       "      <td>2000-12-31 17:12:40</td>\n",
       "      <td>2000</td>\n",
       "      <td>12</td>\n",
       "      <td>2000-12-31</td>\n",
       "    </tr>\n",
       "    <tr>\n",
       "      <th>1</th>\n",
       "      <td>1</td>\n",
       "      <td>661</td>\n",
       "      <td>3</td>\n",
       "      <td>2000-12-31 17:35:09</td>\n",
       "      <td>2000</td>\n",
       "      <td>12</td>\n",
       "      <td>2000-12-31</td>\n",
       "    </tr>\n",
       "    <tr>\n",
       "      <th>2</th>\n",
       "      <td>1</td>\n",
       "      <td>914</td>\n",
       "      <td>3</td>\n",
       "      <td>2000-12-31 17:32:48</td>\n",
       "      <td>2000</td>\n",
       "      <td>12</td>\n",
       "      <td>2000-12-31</td>\n",
       "    </tr>\n",
       "    <tr>\n",
       "      <th>3</th>\n",
       "      <td>1</td>\n",
       "      <td>3408</td>\n",
       "      <td>4</td>\n",
       "      <td>2000-12-31 17:04:35</td>\n",
       "      <td>2000</td>\n",
       "      <td>12</td>\n",
       "      <td>2000-12-31</td>\n",
       "    </tr>\n",
       "    <tr>\n",
       "      <th>4</th>\n",
       "      <td>1</td>\n",
       "      <td>2355</td>\n",
       "      <td>5</td>\n",
       "      <td>2001-01-06 18:38:11</td>\n",
       "      <td>2001</td>\n",
       "      <td>1</td>\n",
       "      <td>2001-01-06</td>\n",
       "    </tr>\n",
       "  </tbody>\n",
       "</table>\n",
       "</div>"
      ],
      "text/plain": [
       "   user_id  movie_id  rating           timestamp  year  month        date\n",
       "0        1      1193       5 2000-12-31 17:12:40  2000     12  2000-12-31\n",
       "1        1       661       3 2000-12-31 17:35:09  2000     12  2000-12-31\n",
       "2        1       914       3 2000-12-31 17:32:48  2000     12  2000-12-31\n",
       "3        1      3408       4 2000-12-31 17:04:35  2000     12  2000-12-31\n",
       "4        1      2355       5 2001-01-06 18:38:11  2001      1  2001-01-06"
      ]
     },
     "execution_count": 14,
     "metadata": {},
     "output_type": "execute_result"
    }
   ],
   "source": [
    "df_rating.head()"
   ]
  },
  {
   "cell_type": "code",
   "execution_count": 15,
   "id": "ed5e09c1-542c-4b90-a47d-b4367723d0dc",
   "metadata": {},
   "outputs": [
    {
     "name": "stdout",
     "output_type": "stream",
     "text": [
      "Number of unique users:  6040\n",
      "Number of unique movies:  3706\n"
     ]
    }
   ],
   "source": [
    "print(\"Number of unique users: \", df_rating[\"user_id\"].nunique())\n",
    "print(\"Number of unique movies: \", df_rating[\"movie_id\"].nunique())"
   ]
  },
  {
   "cell_type": "code",
   "execution_count": 16,
   "id": "72c97da9-5f61-4c75-927a-eb7633942712",
   "metadata": {},
   "outputs": [
    {
     "name": "stdout",
     "output_type": "stream",
     "text": [
      "Unique ratings:  [5 3 4 2 1]\n",
      "Average rating:  3.581564453029317\n"
     ]
    }
   ],
   "source": [
    "print(\"Unique ratings: \", df_rating[\"rating\"].unique())\n",
    "print(\"Average rating: \", df_rating[\"rating\"].mean())\n"
   ]
  },
  {
   "cell_type": "code",
   "execution_count": 17,
   "id": "eb6ebe9d-ff26-4713-b758-c43278596b2b",
   "metadata": {},
   "outputs": [
    {
     "name": "stdout",
     "output_type": "stream",
     "text": [
      "Frequency of each rating value:\n",
      "4    348971\n",
      "3    261197\n",
      "5    226310\n",
      "2    107557\n",
      "1     56174\n",
      "Name: rating, dtype: int64\n"
     ]
    }
   ],
   "source": [
    "print('Frequency of each rating value:')\n",
    "print(df_rating['rating'].value_counts())"
   ]
  },
  {
   "cell_type": "code",
   "execution_count": 18,
   "id": "3abbd20c-b2fb-4daa-9a12-7fb15a9ff738",
   "metadata": {},
   "outputs": [
    {
     "data": {
      "image/png": "[encoded data removed]",
      "text/plain": [
       "<Figure size 432x288 with 1 Axes>"
      ]
     },
     "metadata": {
      "needs_background": "light"
     },
     "output_type": "display_data"
    }
   ],
   "source": [
    "# Get value counts of the \"rating\" column\n",
    "rating_counts = df_rating['rating'].value_counts().sort_index()\n",
    "\n",
    "# Create a bar plot of the value counts\n",
    "rating_counts.plot.bar()\n",
    "\n",
    "# Add x and y axis labels\n",
    "plt.xlabel('Rating')\n",
    "plt.ylabel('Count')\n",
    "\n",
    "# Add a title to the plot\n",
    "plt.title('Distribution of Ratings')\n",
    "\n",
    "# Display the plot\n",
    "plt.show()"
   ]
  },
  {
   "cell_type": "code",
   "execution_count": 19,
   "id": "aafabccf-62bb-4650-b851-26d67af042ee",
   "metadata": {},
   "outputs": [],
   "source": [
    "# Group ratings by year and count the number of ratings for each year\n",
    "df_yearly_counts = df_rating.groupby('year')['rating'].count().sort_index()"
   ]
  },
  {
   "cell_type": "code",
   "execution_count": 20,
   "id": "c84c6ab7-be6b-4741-8ffb-fbaca1ae2f9d",
   "metadata": {},
   "outputs": [
    {
     "data": {
      "image/png": "[encoded data removed]",
      "text/plain": [
       "<Figure size 432x288 with 1 Axes>"
      ]
     },
     "metadata": {
      "needs_background": "light"
     },
     "output_type": "display_data"
    }
   ],
   "source": [
    "df_yearly_counts.plot.bar()\n",
    "\n",
    "plt.xlabel('Year')\n",
    "plt.ylabel('Number of Ratings')\n",
    "\n",
    "# Add a title to the plot\n",
    "plt.title('Number of Ratings per Year')\n",
    "\n",
    "# Display the plot\n",
    "plt.show()"
   ]
  },
  {
   "cell_type": "code",
   "execution_count": 21,
   "id": "7d65cbf5-4d02-43d8-a6b8-6cc7e48a1381",
   "metadata": {},
   "outputs": [
    {
     "name": "stdout",
     "output_type": "stream",
     "text": [
      "Years: [2000 2001 2002 2003]\n",
      "Months [12  1  2  7  5  6  4  3 10  8  9 11]\n"
     ]
    }
   ],
   "source": [
    "print('Years:', df_rating.year.unique())\n",
    "print('Months', df_rating.month.unique())"
   ]
  },
  {
   "cell_type": "code",
   "execution_count": 24,
   "id": "5269fdc0-f72f-4948-bf57-5a165323196c",
   "metadata": {},
   "outputs": [],
   "source": [
    "df_rating_2000 = df_rating.loc[df_rating[\"year\"] == 2000]"
   ]
  },
  {
   "cell_type": "code",
   "execution_count": 25,
   "id": "cb9ff690-c195-4a52-9af4-c7278918a25c",
   "metadata": {},
   "outputs": [
    {
     "data": {
      "text/html": [
       "<div>\n",
       "<style scoped>\n",
       "    .dataframe tbody tr th:only-of-type {\n",
       "        vertical-align: middle;\n",
       "    }\n",
       "\n",
       "    .dataframe tbody tr th {\n",
       "        vertical-align: top;\n",
       "    }\n",
       "\n",
       "    .dataframe thead th {\n",
       "        text-align: right;\n",
       "    }\n",
       "</style>\n",
       "<table border=\"1\" class=\"dataframe\">\n",
       "  <thead>\n",
       "    <tr style=\"text-align: right;\">\n",
       "      <th></th>\n",
       "      <th>user_id</th>\n",
       "      <th>movie_id</th>\n",
       "      <th>rating</th>\n",
       "      <th>timestamp</th>\n",
       "      <th>year</th>\n",
       "      <th>month</th>\n",
       "      <th>date</th>\n",
       "    </tr>\n",
       "  </thead>\n",
       "  <tbody>\n",
       "    <tr>\n",
       "      <th>0</th>\n",
       "      <td>1</td>\n",
       "      <td>1193</td>\n",
       "      <td>5</td>\n",
       "      <td>2000-12-31 17:12:40</td>\n",
       "      <td>2000</td>\n",
       "      <td>12</td>\n",
       "      <td>2000-12-31</td>\n",
       "    </tr>\n",
       "    <tr>\n",
       "      <th>1</th>\n",
       "      <td>1</td>\n",
       "      <td>661</td>\n",
       "      <td>3</td>\n",
       "      <td>2000-12-31 17:35:09</td>\n",
       "      <td>2000</td>\n",
       "      <td>12</td>\n",
       "      <td>2000-12-31</td>\n",
       "    </tr>\n",
       "    <tr>\n",
       "      <th>2</th>\n",
       "      <td>1</td>\n",
       "      <td>914</td>\n",
       "      <td>3</td>\n",
       "      <td>2000-12-31 17:32:48</td>\n",
       "      <td>2000</td>\n",
       "      <td>12</td>\n",
       "      <td>2000-12-31</td>\n",
       "    </tr>\n",
       "    <tr>\n",
       "      <th>3</th>\n",
       "      <td>1</td>\n",
       "      <td>3408</td>\n",
       "      <td>4</td>\n",
       "      <td>2000-12-31 17:04:35</td>\n",
       "      <td>2000</td>\n",
       "      <td>12</td>\n",
       "      <td>2000-12-31</td>\n",
       "    </tr>\n",
       "    <tr>\n",
       "      <th>5</th>\n",
       "      <td>1</td>\n",
       "      <td>1197</td>\n",
       "      <td>3</td>\n",
       "      <td>2000-12-31 17:37:48</td>\n",
       "      <td>2000</td>\n",
       "      <td>12</td>\n",
       "      <td>2000-12-31</td>\n",
       "    </tr>\n",
       "  </tbody>\n",
       "</table>\n",
       "</div>"
      ],
      "text/plain": [
       "   user_id  movie_id  rating           timestamp  year  month        date\n",
       "0        1      1193       5 2000-12-31 17:12:40  2000     12  2000-12-31\n",
       "1        1       661       3 2000-12-31 17:35:09  2000     12  2000-12-31\n",
       "2        1       914       3 2000-12-31 17:32:48  2000     12  2000-12-31\n",
       "3        1      3408       4 2000-12-31 17:04:35  2000     12  2000-12-31\n",
       "5        1      1197       3 2000-12-31 17:37:48  2000     12  2000-12-31"
      ]
     },
     "execution_count": 25,
     "metadata": {},
     "output_type": "execute_result"
    }
   ],
   "source": [
    "df_rating_2000.head()"
   ]
  },
  {
   "cell_type": "code",
   "execution_count": 26,
   "id": "be6bd54f-625b-447f-9f7a-750ec1d11dcd",
   "metadata": {},
   "outputs": [
    {
     "data": {
      "text/html": [
       "<div>\n",
       "<style scoped>\n",
       "    .dataframe tbody tr th:only-of-type {\n",
       "        vertical-align: middle;\n",
       "    }\n",
       "\n",
       "    .dataframe tbody tr th {\n",
       "        vertical-align: top;\n",
       "    }\n",
       "\n",
       "    .dataframe thead th {\n",
       "        text-align: right;\n",
       "    }\n",
       "</style>\n",
       "<table border=\"1\" class=\"dataframe\">\n",
       "  <thead>\n",
       "    <tr style=\"text-align: right;\">\n",
       "      <th></th>\n",
       "      <th>user_id</th>\n",
       "      <th>movie_id</th>\n",
       "      <th>rating</th>\n",
       "      <th>timestamp</th>\n",
       "      <th>year</th>\n",
       "      <th>month</th>\n",
       "      <th>date</th>\n",
       "    </tr>\n",
       "  </thead>\n",
       "  <tbody>\n",
       "    <tr>\n",
       "      <th>1000204</th>\n",
       "      <td>6040</td>\n",
       "      <td>1091</td>\n",
       "      <td>1</td>\n",
       "      <td>2000-04-25 22:35:41</td>\n",
       "      <td>2000</td>\n",
       "      <td>4</td>\n",
       "      <td>2000-04-25</td>\n",
       "    </tr>\n",
       "    <tr>\n",
       "      <th>1000205</th>\n",
       "      <td>6040</td>\n",
       "      <td>1094</td>\n",
       "      <td>5</td>\n",
       "      <td>2000-04-25 19:21:27</td>\n",
       "      <td>2000</td>\n",
       "      <td>4</td>\n",
       "      <td>2000-04-25</td>\n",
       "    </tr>\n",
       "    <tr>\n",
       "      <th>1000206</th>\n",
       "      <td>6040</td>\n",
       "      <td>562</td>\n",
       "      <td>5</td>\n",
       "      <td>2000-04-25 19:19:06</td>\n",
       "      <td>2000</td>\n",
       "      <td>4</td>\n",
       "      <td>2000-04-25</td>\n",
       "    </tr>\n",
       "    <tr>\n",
       "      <th>1000207</th>\n",
       "      <td>6040</td>\n",
       "      <td>1096</td>\n",
       "      <td>4</td>\n",
       "      <td>2000-04-25 22:20:48</td>\n",
       "      <td>2000</td>\n",
       "      <td>4</td>\n",
       "      <td>2000-04-25</td>\n",
       "    </tr>\n",
       "    <tr>\n",
       "      <th>1000208</th>\n",
       "      <td>6040</td>\n",
       "      <td>1097</td>\n",
       "      <td>4</td>\n",
       "      <td>2000-04-25 22:19:29</td>\n",
       "      <td>2000</td>\n",
       "      <td>4</td>\n",
       "      <td>2000-04-25</td>\n",
       "    </tr>\n",
       "  </tbody>\n",
       "</table>\n",
       "</div>"
      ],
      "text/plain": [
       "         user_id  movie_id  rating           timestamp  year  month  \\\n",
       "1000204     6040      1091       1 2000-04-25 22:35:41  2000      4   \n",
       "1000205     6040      1094       5 2000-04-25 19:21:27  2000      4   \n",
       "1000206     6040       562       5 2000-04-25 19:19:06  2000      4   \n",
       "1000207     6040      1096       4 2000-04-25 22:20:48  2000      4   \n",
       "1000208     6040      1097       4 2000-04-25 22:19:29  2000      4   \n",
       "\n",
       "               date  \n",
       "1000204  2000-04-25  \n",
       "1000205  2000-04-25  \n",
       "1000206  2000-04-25  \n",
       "1000207  2000-04-25  \n",
       "1000208  2000-04-25  "
      ]
     },
     "execution_count": 26,
     "metadata": {},
     "output_type": "execute_result"
    }
   ],
   "source": [
    "df_rating_2000.tail()"
   ]
  },
  {
   "cell_type": "code",
   "execution_count": 27,
   "id": "83455fb1-eeee-4ab8-ab0e-89a020a414bb",
   "metadata": {},
   "outputs": [],
   "source": [
    "ratings_by_month_2000 = df_rating_2000.groupby('month')['rating'].count()"
   ]
  },
  {
   "cell_type": "code",
   "execution_count": 28,
   "id": "663e798d-2914-4515-92f7-b24038c4c2ff",
   "metadata": {},
   "outputs": [
    {
     "data": {
      "text/plain": [
       "month\n",
       "4      11619\n",
       "5      67725\n",
       "6      54661\n",
       "7      92538\n",
       "8     179738\n",
       "9      53149\n",
       "10     41853\n",
       "11    290988\n",
       "12    112525\n",
       "Name: rating, dtype: int64"
      ]
     },
     "execution_count": 28,
     "metadata": {},
     "output_type": "execute_result"
    }
   ],
   "source": [
    "ratings_by_month_2000"
   ]
  },
  {
   "cell_type": "code",
   "execution_count": 29,
   "id": "050d65d3-b9f8-4346-92b5-b85f5a11bc3a",
   "metadata": {},
   "outputs": [
    {
     "data": {
      "image/png": "[encoded data removed]",
      "text/plain": [
       "<Figure size 432x288 with 1 Axes>"
      ]
     },
     "metadata": {
      "needs_background": "light"
     },
     "output_type": "display_data"
    }
   ],
   "source": [
    "# Create a line plot of the ratings by month\n",
    "plt.plot(ratings_by_month_2000.index, ratings_by_month_2000.values)\n",
    "\n",
    "# Add labels and title\n",
    "plt.xlabel('Month')\n",
    "plt.ylabel('Number of Ratings')\n",
    "plt.title('Number of Ratings per Month for Year 2000')\n",
    "\n",
    "# Display the plot\n",
    "plt.show()"
   ]
  },
  {
   "cell_type": "code",
   "execution_count": 30,
   "id": "3a1913a0-e8d8-464c-bf80-d0aa7af52387",
   "metadata": {},
   "outputs": [],
   "source": [
    "df_rating_2001 = df_rating.loc[df_rating[\"year\"] == 2001]"
   ]
  },
  {
   "cell_type": "code",
   "execution_count": 31,
   "id": "1e0fe399-b7d5-43e6-aec2-42130b207552",
   "metadata": {},
   "outputs": [
    {
     "data": {
      "text/html": [
       "<div>\n",
       "<style scoped>\n",
       "    .dataframe tbody tr th:only-of-type {\n",
       "        vertical-align: middle;\n",
       "    }\n",
       "\n",
       "    .dataframe tbody tr th {\n",
       "        vertical-align: top;\n",
       "    }\n",
       "\n",
       "    .dataframe thead th {\n",
       "        text-align: right;\n",
       "    }\n",
       "</style>\n",
       "<table border=\"1\" class=\"dataframe\">\n",
       "  <thead>\n",
       "    <tr style=\"text-align: right;\">\n",
       "      <th></th>\n",
       "      <th>user_id</th>\n",
       "      <th>movie_id</th>\n",
       "      <th>rating</th>\n",
       "      <th>timestamp</th>\n",
       "      <th>year</th>\n",
       "      <th>month</th>\n",
       "      <th>date</th>\n",
       "    </tr>\n",
       "  </thead>\n",
       "  <tbody>\n",
       "    <tr>\n",
       "      <th>4</th>\n",
       "      <td>1</td>\n",
       "      <td>2355</td>\n",
       "      <td>5</td>\n",
       "      <td>2001-01-06 18:38:11</td>\n",
       "      <td>2001</td>\n",
       "      <td>1</td>\n",
       "      <td>2001-01-06</td>\n",
       "    </tr>\n",
       "    <tr>\n",
       "      <th>10</th>\n",
       "      <td>1</td>\n",
       "      <td>595</td>\n",
       "      <td>5</td>\n",
       "      <td>2001-01-06 18:37:48</td>\n",
       "      <td>2001</td>\n",
       "      <td>1</td>\n",
       "      <td>2001-01-06</td>\n",
       "    </tr>\n",
       "    <tr>\n",
       "      <th>16</th>\n",
       "      <td>1</td>\n",
       "      <td>2687</td>\n",
       "      <td>3</td>\n",
       "      <td>2001-01-06 18:37:48</td>\n",
       "      <td>2001</td>\n",
       "      <td>1</td>\n",
       "      <td>2001-01-06</td>\n",
       "    </tr>\n",
       "    <tr>\n",
       "      <th>23</th>\n",
       "      <td>1</td>\n",
       "      <td>527</td>\n",
       "      <td>5</td>\n",
       "      <td>2001-01-06 18:36:35</td>\n",
       "      <td>2001</td>\n",
       "      <td>1</td>\n",
       "      <td>2001-01-06</td>\n",
       "    </tr>\n",
       "    <tr>\n",
       "      <th>25</th>\n",
       "      <td>1</td>\n",
       "      <td>48</td>\n",
       "      <td>5</td>\n",
       "      <td>2001-01-06 18:39:11</td>\n",
       "      <td>2001</td>\n",
       "      <td>1</td>\n",
       "      <td>2001-01-06</td>\n",
       "    </tr>\n",
       "  </tbody>\n",
       "</table>\n",
       "</div>"
      ],
      "text/plain": [
       "    user_id  movie_id  rating           timestamp  year  month        date\n",
       "4         1      2355       5 2001-01-06 18:38:11  2001      1  2001-01-06\n",
       "10        1       595       5 2001-01-06 18:37:48  2001      1  2001-01-06\n",
       "16        1      2687       3 2001-01-06 18:37:48  2001      1  2001-01-06\n",
       "23        1       527       5 2001-01-06 18:36:35  2001      1  2001-01-06\n",
       "25        1        48       5 2001-01-06 18:39:11  2001      1  2001-01-06"
      ]
     },
     "execution_count": 31,
     "metadata": {},
     "output_type": "execute_result"
    }
   ],
   "source": [
    "df_rating_2001.head()"
   ]
  },
  {
   "cell_type": "code",
   "execution_count": 32,
   "id": "06148479-a7e5-4295-9d25-ca6cce21a972",
   "metadata": {},
   "outputs": [
    {
     "data": {
      "text/html": [
       "<div>\n",
       "<style scoped>\n",
       "    .dataframe tbody tr th:only-of-type {\n",
       "        vertical-align: middle;\n",
       "    }\n",
       "\n",
       "    .dataframe tbody tr th {\n",
       "        vertical-align: top;\n",
       "    }\n",
       "\n",
       "    .dataframe thead th {\n",
       "        text-align: right;\n",
       "    }\n",
       "</style>\n",
       "<table border=\"1\" class=\"dataframe\">\n",
       "  <thead>\n",
       "    <tr style=\"text-align: right;\">\n",
       "      <th></th>\n",
       "      <th>user_id</th>\n",
       "      <th>movie_id</th>\n",
       "      <th>rating</th>\n",
       "      <th>timestamp</th>\n",
       "      <th>year</th>\n",
       "      <th>month</th>\n",
       "      <th>date</th>\n",
       "    </tr>\n",
       "  </thead>\n",
       "  <tbody>\n",
       "    <tr>\n",
       "      <th>1000126</th>\n",
       "      <td>6040</td>\n",
       "      <td>1333</td>\n",
       "      <td>4</td>\n",
       "      <td>2001-08-10 10:35:40</td>\n",
       "      <td>2001</td>\n",
       "      <td>8</td>\n",
       "      <td>2001-08-10</td>\n",
       "    </tr>\n",
       "    <tr>\n",
       "      <th>1000162</th>\n",
       "      <td>6040</td>\n",
       "      <td>3362</td>\n",
       "      <td>4</td>\n",
       "      <td>2001-08-10 10:29:56</td>\n",
       "      <td>2001</td>\n",
       "      <td>8</td>\n",
       "      <td>2001-08-10</td>\n",
       "    </tr>\n",
       "    <tr>\n",
       "      <th>1000167</th>\n",
       "      <td>6040</td>\n",
       "      <td>161</td>\n",
       "      <td>3</td>\n",
       "      <td>2001-08-10 10:41:26</td>\n",
       "      <td>2001</td>\n",
       "      <td>8</td>\n",
       "      <td>2001-08-10</td>\n",
       "    </tr>\n",
       "    <tr>\n",
       "      <th>1000169</th>\n",
       "      <td>6040</td>\n",
       "      <td>2725</td>\n",
       "      <td>4</td>\n",
       "      <td>2001-08-10 10:36:20</td>\n",
       "      <td>2001</td>\n",
       "      <td>8</td>\n",
       "      <td>2001-08-10</td>\n",
       "    </tr>\n",
       "    <tr>\n",
       "      <th>1000172</th>\n",
       "      <td>6040</td>\n",
       "      <td>1784</td>\n",
       "      <td>3</td>\n",
       "      <td>2001-08-10 10:41:04</td>\n",
       "      <td>2001</td>\n",
       "      <td>8</td>\n",
       "      <td>2001-08-10</td>\n",
       "    </tr>\n",
       "  </tbody>\n",
       "</table>\n",
       "</div>"
      ],
      "text/plain": [
       "         user_id  movie_id  rating           timestamp  year  month  \\\n",
       "1000126     6040      1333       4 2001-08-10 10:35:40  2001      8   \n",
       "1000162     6040      3362       4 2001-08-10 10:29:56  2001      8   \n",
       "1000167     6040       161       3 2001-08-10 10:41:26  2001      8   \n",
       "1000169     6040      2725       4 2001-08-10 10:36:20  2001      8   \n",
       "1000172     6040      1784       3 2001-08-10 10:41:04  2001      8   \n",
       "\n",
       "               date  \n",
       "1000126  2001-08-10  \n",
       "1000162  2001-08-10  \n",
       "1000167  2001-08-10  \n",
       "1000169  2001-08-10  \n",
       "1000172  2001-08-10  "
      ]
     },
     "execution_count": 32,
     "metadata": {},
     "output_type": "execute_result"
    }
   ],
   "source": [
    "df_rating_2001.tail()"
   ]
  },
  {
   "cell_type": "code",
   "execution_count": 33,
   "id": "b46bc731-5961-43d6-ae82-91e4fd8eb374",
   "metadata": {},
   "outputs": [],
   "source": [
    "ratings_by_month_2001 = df_rating_2001.groupby('month')['rating'].count()"
   ]
  },
  {
   "cell_type": "code",
   "execution_count": 34,
   "id": "f9f27e0d-4c9f-479b-a924-0e8121184372",
   "metadata": {},
   "outputs": [
    {
     "data": {
      "text/plain": [
       "month\n",
       "1     18255\n",
       "2      8095\n",
       "3      5854\n",
       "4      5190\n",
       "5      4933\n",
       "6      4985\n",
       "7      4731\n",
       "8      4520\n",
       "9      3021\n",
       "10     2194\n",
       "11     2777\n",
       "12     3522\n",
       "Name: rating, dtype: int64"
      ]
     },
     "execution_count": 34,
     "metadata": {},
     "output_type": "execute_result"
    }
   ],
   "source": [
    "ratings_by_month_2001"
   ]
  },
  {
   "cell_type": "code",
   "execution_count": 35,
   "id": "cd83fa50-0ec5-4e0a-a01d-1b4c391b2543",
   "metadata": {},
   "outputs": [
    {
     "data": {
      "image/png": "[encoded data removed]",
      "text/plain": [
       "<Figure size 432x288 with 1 Axes>"
      ]
     },
     "metadata": {
      "needs_background": "light"
     },
     "output_type": "display_data"
    }
   ],
   "source": [
    "# Create a line plot of the ratings by month\n",
    "plt.plot(ratings_by_month_2001.index, ratings_by_month_2001.values)\n",
    "\n",
    "# Add labels and title\n",
    "plt.xlabel('Month')\n",
    "plt.ylabel('Number of Ratings')\n",
    "plt.title('Number of Ratings per Month for Year 2001')\n",
    "\n",
    "# Display the plot\n",
    "plt.show()"
   ]
  },
  {
   "cell_type": "code",
   "execution_count": 36,
   "id": "73fb1614-efbb-4e96-a168-966c8beb3b25",
   "metadata": {},
   "outputs": [],
   "source": [
    "df_rating_2002 = df_rating.loc[df_rating[\"year\"] == 2002]"
   ]
  },
  {
   "cell_type": "code",
   "execution_count": 37,
   "id": "d90619a7-cb4f-4fba-880c-36b24d794209",
   "metadata": {},
   "outputs": [],
   "source": [
    "ratings_by_month_2002 = df_rating_2002.groupby('month')['rating'].count()"
   ]
  },
  {
   "cell_type": "code",
   "execution_count": 38,
   "id": "cef3bd88-9c04-4fae-ae60-42496222a105",
   "metadata": {},
   "outputs": [
    {
     "data": {
      "image/png": "[encoded data removed]",
      "text/plain": [
       "<Figure size 432x288 with 1 Axes>"
      ]
     },
     "metadata": {
      "needs_background": "light"
     },
     "output_type": "display_data"
    }
   ],
   "source": [
    "# Create a line plot of the ratings by month\n",
    "plt.plot(ratings_by_month_2002.index, ratings_by_month_2002.values)\n",
    "\n",
    "# Add labels and title\n",
    "plt.xlabel('Month')\n",
    "plt.ylabel('Number of Ratings')\n",
    "plt.title('Number of Ratings per Month for Year 2002')\n",
    "\n",
    "# Display the plot\n",
    "plt.show()"
   ]
  },
  {
   "cell_type": "code",
   "execution_count": 39,
   "id": "709d2b9d-1e50-400e-9a95-dd21e2cf8db1",
   "metadata": {},
   "outputs": [],
   "source": [
    "df_rating_2003 = df_rating.loc[df_rating[\"year\"] == 2003]\n",
    "ratings_by_month_2003 = df_rating_2003.groupby('month')['rating'].count()"
   ]
  },
  {
   "cell_type": "code",
   "execution_count": 40,
   "id": "c23678ce-3520-4241-b5f2-64ca0967e273",
   "metadata": {},
   "outputs": [
    {
     "data": {
      "image/png": "[encoded data removed]",
      "text/plain": [
       "<Figure size 432x288 with 1 Axes>"
      ]
     },
     "metadata": {
      "needs_background": "light"
     },
     "output_type": "display_data"
    }
   ],
   "source": [
    "# Create a line plot of the ratings by month\n",
    "plt.plot(ratings_by_month_2002.index, ratings_by_month_2002.values)\n",
    "\n",
    "# Add labels and title\n",
    "plt.xlabel('Month')\n",
    "plt.ylabel('Number of Ratings')\n",
    "plt.title('Number of Ratings per Month for Year 2002')\n",
    "\n",
    "# Display the plot\n",
    "plt.show()"
   ]
  },
  {
   "cell_type": "markdown",
   "id": "a9a36f66-ea89-4e3b-9fa3-8bab78fae186",
   "metadata": {},
   "source": [
    "## Part 2: Analyzing User Data"
   ]
  },
  {
   "cell_type": "code",
   "execution_count": 41,
   "id": "53d58124-cbb1-43ce-bc9a-2096fbe81616",
   "metadata": {},
   "outputs": [
    {
     "data": {
      "text/html": [
       "<div>\n",
       "<style scoped>\n",
       "    .dataframe tbody tr th:only-of-type {\n",
       "        vertical-align: middle;\n",
       "    }\n",
       "\n",
       "    .dataframe tbody tr th {\n",
       "        vertical-align: top;\n",
       "    }\n",
       "\n",
       "    .dataframe thead th {\n",
       "        text-align: right;\n",
       "    }\n",
       "</style>\n",
       "<table border=\"1\" class=\"dataframe\">\n",
       "  <thead>\n",
       "    <tr style=\"text-align: right;\">\n",
       "      <th></th>\n",
       "      <th>user_id</th>\n",
       "      <th>gender</th>\n",
       "      <th>age</th>\n",
       "      <th>occupation</th>\n",
       "      <th>zipcode</th>\n",
       "    </tr>\n",
       "  </thead>\n",
       "  <tbody>\n",
       "    <tr>\n",
       "      <th>0</th>\n",
       "      <td>1</td>\n",
       "      <td>F</td>\n",
       "      <td>1</td>\n",
       "      <td>10</td>\n",
       "      <td>48067</td>\n",
       "    </tr>\n",
       "    <tr>\n",
       "      <th>1</th>\n",
       "      <td>2</td>\n",
       "      <td>M</td>\n",
       "      <td>56</td>\n",
       "      <td>16</td>\n",
       "      <td>70072</td>\n",
       "    </tr>\n",
       "    <tr>\n",
       "      <th>2</th>\n",
       "      <td>3</td>\n",
       "      <td>M</td>\n",
       "      <td>25</td>\n",
       "      <td>15</td>\n",
       "      <td>55117</td>\n",
       "    </tr>\n",
       "    <tr>\n",
       "      <th>3</th>\n",
       "      <td>4</td>\n",
       "      <td>M</td>\n",
       "      <td>45</td>\n",
       "      <td>7</td>\n",
       "      <td>02460</td>\n",
       "    </tr>\n",
       "    <tr>\n",
       "      <th>4</th>\n",
       "      <td>5</td>\n",
       "      <td>M</td>\n",
       "      <td>25</td>\n",
       "      <td>20</td>\n",
       "      <td>55455</td>\n",
       "    </tr>\n",
       "  </tbody>\n",
       "</table>\n",
       "</div>"
      ],
      "text/plain": [
       "   user_id gender  age  occupation zipcode\n",
       "0        1      F    1          10   48067\n",
       "1        2      M   56          16   70072\n",
       "2        3      M   25          15   55117\n",
       "3        4      M   45           7   02460\n",
       "4        5      M   25          20   55455"
      ]
     },
     "execution_count": 41,
     "metadata": {},
     "output_type": "execute_result"
    }
   ],
   "source": [
    "df_user.head()"
   ]
  },
  {
   "cell_type": "code",
   "execution_count": 42,
   "id": "6c313194-aed4-4847-a8eb-08343185c7c2",
   "metadata": {},
   "outputs": [
    {
     "name": "stdout",
     "output_type": "stream",
     "text": [
      "<class 'pandas.core.frame.DataFrame'>\n",
      "RangeIndex: 6040 entries, 0 to 6039\n",
      "Data columns (total 5 columns):\n",
      " #   Column      Non-Null Count  Dtype \n",
      "---  ------      --------------  ----- \n",
      " 0   user_id     6040 non-null   int64 \n",
      " 1   gender      6040 non-null   object\n",
      " 2   age         6040 non-null   int64 \n",
      " 3   occupation  6040 non-null   int64 \n",
      " 4   zipcode     6040 non-null   object\n",
      "dtypes: int64(3), object(2)\n",
      "memory usage: 236.1+ KB\n"
     ]
    }
   ],
   "source": [
    "df_user.info()"
   ]
  },
  {
   "cell_type": "code",
   "execution_count": 43,
   "id": "d60103ea-231d-4ec4-bf7f-b782699f4171",
   "metadata": {},
   "outputs": [
    {
     "name": "stdout",
     "output_type": "stream",
     "text": [
      "Number of unique occupation: 21\n",
      "Number of unique zipcodes: 3439\n",
      "Gender distribution:\n",
      " M    4331\n",
      "F    1709\n",
      "Name: gender, dtype: int64\n"
     ]
    }
   ],
   "source": [
    "print('Number of unique occupation:', df_user[\"occupation\"].nunique())\n",
    "print('Number of unique zipcodes:', df_user[\"zipcode\"].nunique())\n",
    "print('Gender distribution:\\n', df_user['gender'].value_counts())"
   ]
  },
  {
   "cell_type": "code",
   "execution_count": 44,
   "id": "b7742597-a577-4d97-85d3-78c70ebdb76e",
   "metadata": {},
   "outputs": [
    {
     "data": {
      "image/png": "[encoded data removed]",
      "text/plain": [
       "<Figure size 432x288 with 1 Axes>"
      ]
     },
     "metadata": {
      "needs_background": "light"
     },
     "output_type": "display_data"
    }
   ],
   "source": [
    "# Get the value counts for each gender\n",
    "gender_counts = df_user['gender'].value_counts()\n",
    "\n",
    "# Create a bar plot of the gender \n",
    "gender_counts.plot(kind='bar')\n",
    "\n",
    "# Add labels and title\n",
    "plt.xlabel('Gender')\n",
    "plt.ylabel('Number of Ratings')\n",
    "plt.title('Number of Ratings by Gender')\n",
    "\n",
    "# Display the plot\n",
    "plt.show()"
   ]
  },
  {
   "cell_type": "markdown",
   "id": "aa24516e-32ae-4aea-8fa6-1f4f74f17117",
   "metadata": {},
   "source": [
    "## Part 3: Anaylzing Movie Data"
   ]
  },
  {
   "cell_type": "code",
   "execution_count": 45,
   "id": "bd594754-e29b-4211-98ad-8f913aad622a",
   "metadata": {},
   "outputs": [
    {
     "data": {
      "text/html": [
       "<div>\n",
       "<style scoped>\n",
       "    .dataframe tbody tr th:only-of-type {\n",
       "        vertical-align: middle;\n",
       "    }\n",
       "\n",
       "    .dataframe tbody tr th {\n",
       "        vertical-align: top;\n",
       "    }\n",
       "\n",
       "    .dataframe thead th {\n",
       "        text-align: right;\n",
       "    }\n",
       "</style>\n",
       "<table border=\"1\" class=\"dataframe\">\n",
       "  <thead>\n",
       "    <tr style=\"text-align: right;\">\n",
       "      <th></th>\n",
       "      <th>movie_id</th>\n",
       "      <th>title</th>\n",
       "      <th>genre</th>\n",
       "    </tr>\n",
       "  </thead>\n",
       "  <tbody>\n",
       "    <tr>\n",
       "      <th>0</th>\n",
       "      <td>1</td>\n",
       "      <td>Toy Story (1995)</td>\n",
       "      <td>Animation|Children's|Comedy</td>\n",
       "    </tr>\n",
       "    <tr>\n",
       "      <th>1</th>\n",
       "      <td>2</td>\n",
       "      <td>Jumanji (1995)</td>\n",
       "      <td>Adventure|Children's|Fantasy</td>\n",
       "    </tr>\n",
       "    <tr>\n",
       "      <th>2</th>\n",
       "      <td>3</td>\n",
       "      <td>Grumpier Old Men (1995)</td>\n",
       "      <td>Comedy|Romance</td>\n",
       "    </tr>\n",
       "    <tr>\n",
       "      <th>3</th>\n",
       "      <td>4</td>\n",
       "      <td>Waiting to Exhale (1995)</td>\n",
       "      <td>Comedy|Drama</td>\n",
       "    </tr>\n",
       "    <tr>\n",
       "      <th>4</th>\n",
       "      <td>5</td>\n",
       "      <td>Father of the Bride Part II (1995)</td>\n",
       "      <td>Comedy</td>\n",
       "    </tr>\n",
       "  </tbody>\n",
       "</table>\n",
       "</div>"
      ],
      "text/plain": [
       "   movie_id                               title                         genre\n",
       "0         1                    Toy Story (1995)   Animation|Children's|Comedy\n",
       "1         2                      Jumanji (1995)  Adventure|Children's|Fantasy\n",
       "2         3             Grumpier Old Men (1995)                Comedy|Romance\n",
       "3         4            Waiting to Exhale (1995)                  Comedy|Drama\n",
       "4         5  Father of the Bride Part II (1995)                        Comedy"
      ]
     },
     "execution_count": 45,
     "metadata": {},
     "output_type": "execute_result"
    }
   ],
   "source": [
    "df_movie.head()"
   ]
  },
  {
   "cell_type": "code",
   "execution_count": 46,
   "id": "328bb6d3-57f0-4366-b49e-4126c5ce4af3",
   "metadata": {},
   "outputs": [
    {
     "name": "stdout",
     "output_type": "stream",
     "text": [
      "<class 'pandas.core.frame.DataFrame'>\n",
      "RangeIndex: 3883 entries, 0 to 3882\n",
      "Data columns (total 3 columns):\n",
      " #   Column    Non-Null Count  Dtype \n",
      "---  ------    --------------  ----- \n",
      " 0   movie_id  3883 non-null   int64 \n",
      " 1   title     3883 non-null   object\n",
      " 2   genre     3883 non-null   object\n",
      "dtypes: int64(1), object(2)\n",
      "memory usage: 91.1+ KB\n"
     ]
    }
   ],
   "source": [
    "df_movie.info()"
   ]
  },
  {
   "cell_type": "code",
   "execution_count": 47,
   "id": "d3fd9f6d-1594-42fd-a302-045bf5599e0c",
   "metadata": {},
   "outputs": [],
   "source": [
    "df_movie['release_year'] = df_movie['title'].str.extract(\"\\((\\d{4})\\)\", expand=True).astype(str)"
   ]
  },
  {
   "cell_type": "code",
   "execution_count": 106,
   "id": "3aaed6a1-e761-4796-9ca1-0939fae71664",
   "metadata": {},
   "outputs": [
    {
     "data": {
      "text/html": [
       "<div>\n",
       "<style scoped>\n",
       "    .dataframe tbody tr th:only-of-type {\n",
       "        vertical-align: middle;\n",
       "    }\n",
       "\n",
       "    .dataframe tbody tr th {\n",
       "        vertical-align: top;\n",
       "    }\n",
       "\n",
       "    .dataframe thead th {\n",
       "        text-align: right;\n",
       "    }\n",
       "</style>\n",
       "<table border=\"1\" class=\"dataframe\">\n",
       "  <thead>\n",
       "    <tr style=\"text-align: right;\">\n",
       "      <th></th>\n",
       "      <th>movie_id</th>\n",
       "      <th>title</th>\n",
       "      <th>genre</th>\n",
       "      <th>year</th>\n",
       "      <th>release_year</th>\n",
       "    </tr>\n",
       "  </thead>\n",
       "  <tbody>\n",
       "    <tr>\n",
       "      <th>0</th>\n",
       "      <td>1</td>\n",
       "      <td>Toy Story (1995)</td>\n",
       "      <td>Animation|Children's|Comedy</td>\n",
       "      <td>1995</td>\n",
       "      <td>1995</td>\n",
       "    </tr>\n",
       "    <tr>\n",
       "      <th>1</th>\n",
       "      <td>2</td>\n",
       "      <td>Jumanji (1995)</td>\n",
       "      <td>Adventure|Children's|Fantasy</td>\n",
       "      <td>1995</td>\n",
       "      <td>1995</td>\n",
       "    </tr>\n",
       "    <tr>\n",
       "      <th>2</th>\n",
       "      <td>3</td>\n",
       "      <td>Grumpier Old Men (1995)</td>\n",
       "      <td>Comedy|Romance</td>\n",
       "      <td>1995</td>\n",
       "      <td>1995</td>\n",
       "    </tr>\n",
       "    <tr>\n",
       "      <th>3</th>\n",
       "      <td>4</td>\n",
       "      <td>Waiting to Exhale (1995)</td>\n",
       "      <td>Comedy|Drama</td>\n",
       "      <td>1995</td>\n",
       "      <td>1995</td>\n",
       "    </tr>\n",
       "    <tr>\n",
       "      <th>4</th>\n",
       "      <td>5</td>\n",
       "      <td>Father of the Bride Part II (1995)</td>\n",
       "      <td>Comedy</td>\n",
       "      <td>1995</td>\n",
       "      <td>1995</td>\n",
       "    </tr>\n",
       "  </tbody>\n",
       "</table>\n",
       "</div>"
      ],
      "text/plain": [
       "   movie_id                               title                         genre  \\\n",
       "0         1                    Toy Story (1995)   Animation|Children's|Comedy   \n",
       "1         2                      Jumanji (1995)  Adventure|Children's|Fantasy   \n",
       "2         3             Grumpier Old Men (1995)                Comedy|Romance   \n",
       "3         4            Waiting to Exhale (1995)                  Comedy|Drama   \n",
       "4         5  Father of the Bride Part II (1995)                        Comedy   \n",
       "\n",
       "   year release_year  \n",
       "0  1995         1995  \n",
       "1  1995         1995  \n",
       "2  1995         1995  \n",
       "3  1995         1995  \n",
       "4  1995         1995  "
      ]
     },
     "execution_count": 106,
     "metadata": {},
     "output_type": "execute_result"
    }
   ],
   "source": [
    "df_movie.head()"
   ]
  },
  {
   "cell_type": "code",
   "execution_count": 48,
   "id": "941de321-d31e-41b0-875d-ac2d6cde89ca",
   "metadata": {},
   "outputs": [],
   "source": [
    "genre_lists = df_movie[\"genre\"].str.split('|')"
   ]
  },
  {
   "cell_type": "code",
   "execution_count": 49,
   "id": "c4186c71-a1b2-40d8-81e0-f3556b1940fd",
   "metadata": {},
   "outputs": [
    {
     "data": {
      "text/plain": [
       "0        [Animation, Children's, Comedy]\n",
       "1       [Adventure, Children's, Fantasy]\n",
       "2                      [Comedy, Romance]\n",
       "3                        [Comedy, Drama]\n",
       "4                               [Comedy]\n",
       "                      ...               \n",
       "3878                            [Comedy]\n",
       "3879                             [Drama]\n",
       "3880                             [Drama]\n",
       "3881                             [Drama]\n",
       "3882                   [Drama, Thriller]\n",
       "Name: genre, Length: 3883, dtype: object"
      ]
     },
     "execution_count": 49,
     "metadata": {},
     "output_type": "execute_result"
    }
   ],
   "source": [
    "genre_lists"
   ]
  },
  {
   "cell_type": "code",
   "execution_count": 50,
   "id": "90f6f9e4-d5d4-453e-a978-8a0d387582c9",
   "metadata": {},
   "outputs": [],
   "source": [
    "genres = genre_lists.explode()"
   ]
  },
  {
   "cell_type": "code",
   "execution_count": 51,
   "id": "dfdecabc-e060-418e-8110-d203d0a9e0bd",
   "metadata": {},
   "outputs": [
    {
     "data": {
      "text/plain": [
       "0        Animation\n",
       "0       Children's\n",
       "0           Comedy\n",
       "1        Adventure\n",
       "1       Children's\n",
       "           ...    \n",
       "3879         Drama\n",
       "3880         Drama\n",
       "3881         Drama\n",
       "3882         Drama\n",
       "3882      Thriller\n",
       "Name: genre, Length: 6408, dtype: object"
      ]
     },
     "execution_count": 51,
     "metadata": {},
     "output_type": "execute_result"
    }
   ],
   "source": [
    "genres"
   ]
  },
  {
   "cell_type": "code",
   "execution_count": 52,
   "id": "c45c18f5-9735-430f-ac62-974e1ce401a0",
   "metadata": {},
   "outputs": [],
   "source": [
    "unique_genres = genres.unique()"
   ]
  },
  {
   "cell_type": "code",
   "execution_count": 53,
   "id": "c25fb036-1971-4df1-a5f7-6d35aa6674fc",
   "metadata": {},
   "outputs": [
    {
     "name": "stdout",
     "output_type": "stream",
     "text": [
      "Unique genres:  ['Animation' \"Children's\" 'Comedy' 'Adventure' 'Fantasy' 'Romance' 'Drama'\n",
      " 'Action' 'Crime' 'Thriller' 'Horror' 'Sci-Fi' 'Documentary' 'War'\n",
      " 'Musical' 'Mystery' 'Film-Noir' 'Western']\n"
     ]
    }
   ],
   "source": [
    "print(\"Unique genres: \", unique_genres)"
   ]
  },
  {
   "cell_type": "code",
   "execution_count": 54,
   "id": "82a3c22a-f644-4878-88c9-9e6f9e1fc1c5",
   "metadata": {},
   "outputs": [],
   "source": [
    "df_movie = df_movie.join(df_movie['genre'].str.get_dummies().astype(bool))\n",
    "df_movie.drop('genre', inplace=True, axis=1)"
   ]
  },
  {
   "cell_type": "code",
   "execution_count": 55,
   "id": "4a83d6c7-c3c8-4e15-b98f-b3b30ceb0376",
   "metadata": {},
   "outputs": [
    {
     "name": "stdout",
     "output_type": "stream",
     "text": [
      "<class 'pandas.core.frame.DataFrame'>\n",
      "RangeIndex: 3883 entries, 0 to 3882\n",
      "Data columns (total 21 columns):\n",
      " #   Column        Non-Null Count  Dtype \n",
      "---  ------        --------------  ----- \n",
      " 0   movie_id      3883 non-null   int64 \n",
      " 1   title         3883 non-null   object\n",
      " 2   release_year  3883 non-null   object\n",
      " 3   Action        3883 non-null   bool  \n",
      " 4   Adventure     3883 non-null   bool  \n",
      " 5   Animation     3883 non-null   bool  \n",
      " 6   Children's    3883 non-null   bool  \n",
      " 7   Comedy        3883 non-null   bool  \n",
      " 8   Crime         3883 non-null   bool  \n",
      " 9   Documentary   3883 non-null   bool  \n",
      " 10  Drama         3883 non-null   bool  \n",
      " 11  Fantasy       3883 non-null   bool  \n",
      " 12  Film-Noir     3883 non-null   bool  \n",
      " 13  Horror        3883 non-null   bool  \n",
      " 14  Musical       3883 non-null   bool  \n",
      " 15  Mystery       3883 non-null   bool  \n",
      " 16  Romance       3883 non-null   bool  \n",
      " 17  Sci-Fi        3883 non-null   bool  \n",
      " 18  Thriller      3883 non-null   bool  \n",
      " 19  War           3883 non-null   bool  \n",
      " 20  Western       3883 non-null   bool  \n",
      "dtypes: bool(18), int64(1), object(2)\n",
      "memory usage: 159.4+ KB\n"
     ]
    }
   ],
   "source": [
    "df_movie.info()"
   ]
  },
  {
   "cell_type": "code",
   "execution_count": 56,
   "id": "8000f6b0-5eaa-46cd-b223-f098c65e355e",
   "metadata": {},
   "outputs": [
    {
     "data": {
      "text/html": [
       "<div>\n",
       "<style scoped>\n",
       "    .dataframe tbody tr th:only-of-type {\n",
       "        vertical-align: middle;\n",
       "    }\n",
       "\n",
       "    .dataframe tbody tr th {\n",
       "        vertical-align: top;\n",
       "    }\n",
       "\n",
       "    .dataframe thead th {\n",
       "        text-align: right;\n",
       "    }\n",
       "</style>\n",
       "<table border=\"1\" class=\"dataframe\">\n",
       "  <thead>\n",
       "    <tr style=\"text-align: right;\">\n",
       "      <th></th>\n",
       "      <th>movie_id</th>\n",
       "      <th>title</th>\n",
       "      <th>release_year</th>\n",
       "      <th>Action</th>\n",
       "      <th>Adventure</th>\n",
       "      <th>Animation</th>\n",
       "      <th>Children's</th>\n",
       "      <th>Comedy</th>\n",
       "      <th>Crime</th>\n",
       "      <th>Documentary</th>\n",
       "      <th>...</th>\n",
       "      <th>Fantasy</th>\n",
       "      <th>Film-Noir</th>\n",
       "      <th>Horror</th>\n",
       "      <th>Musical</th>\n",
       "      <th>Mystery</th>\n",
       "      <th>Romance</th>\n",
       "      <th>Sci-Fi</th>\n",
       "      <th>Thriller</th>\n",
       "      <th>War</th>\n",
       "      <th>Western</th>\n",
       "    </tr>\n",
       "  </thead>\n",
       "  <tbody>\n",
       "    <tr>\n",
       "      <th>0</th>\n",
       "      <td>1</td>\n",
       "      <td>Toy Story (1995)</td>\n",
       "      <td>1995</td>\n",
       "      <td>False</td>\n",
       "      <td>False</td>\n",
       "      <td>True</td>\n",
       "      <td>True</td>\n",
       "      <td>True</td>\n",
       "      <td>False</td>\n",
       "      <td>False</td>\n",
       "      <td>...</td>\n",
       "      <td>False</td>\n",
       "      <td>False</td>\n",
       "      <td>False</td>\n",
       "      <td>False</td>\n",
       "      <td>False</td>\n",
       "      <td>False</td>\n",
       "      <td>False</td>\n",
       "      <td>False</td>\n",
       "      <td>False</td>\n",
       "      <td>False</td>\n",
       "    </tr>\n",
       "    <tr>\n",
       "      <th>1</th>\n",
       "      <td>2</td>\n",
       "      <td>Jumanji (1995)</td>\n",
       "      <td>1995</td>\n",
       "      <td>False</td>\n",
       "      <td>True</td>\n",
       "      <td>False</td>\n",
       "      <td>True</td>\n",
       "      <td>False</td>\n",
       "      <td>False</td>\n",
       "      <td>False</td>\n",
       "      <td>...</td>\n",
       "      <td>True</td>\n",
       "      <td>False</td>\n",
       "      <td>False</td>\n",
       "      <td>False</td>\n",
       "      <td>False</td>\n",
       "      <td>False</td>\n",
       "      <td>False</td>\n",
       "      <td>False</td>\n",
       "      <td>False</td>\n",
       "      <td>False</td>\n",
       "    </tr>\n",
       "    <tr>\n",
       "      <th>2</th>\n",
       "      <td>3</td>\n",
       "      <td>Grumpier Old Men (1995)</td>\n",
       "      <td>1995</td>\n",
       "      <td>False</td>\n",
       "      <td>False</td>\n",
       "      <td>False</td>\n",
       "      <td>False</td>\n",
       "      <td>True</td>\n",
       "      <td>False</td>\n",
       "      <td>False</td>\n",
       "      <td>...</td>\n",
       "      <td>False</td>\n",
       "      <td>False</td>\n",
       "      <td>False</td>\n",
       "      <td>False</td>\n",
       "      <td>False</td>\n",
       "      <td>True</td>\n",
       "      <td>False</td>\n",
       "      <td>False</td>\n",
       "      <td>False</td>\n",
       "      <td>False</td>\n",
       "    </tr>\n",
       "    <tr>\n",
       "      <th>3</th>\n",
       "      <td>4</td>\n",
       "      <td>Waiting to Exhale (1995)</td>\n",
       "      <td>1995</td>\n",
       "      <td>False</td>\n",
       "      <td>False</td>\n",
       "      <td>False</td>\n",
       "      <td>False</td>\n",
       "      <td>True</td>\n",
       "      <td>False</td>\n",
       "      <td>False</td>\n",
       "      <td>...</td>\n",
       "      <td>False</td>\n",
       "      <td>False</td>\n",
       "      <td>False</td>\n",
       "      <td>False</td>\n",
       "      <td>False</td>\n",
       "      <td>False</td>\n",
       "      <td>False</td>\n",
       "      <td>False</td>\n",
       "      <td>False</td>\n",
       "      <td>False</td>\n",
       "    </tr>\n",
       "    <tr>\n",
       "      <th>4</th>\n",
       "      <td>5</td>\n",
       "      <td>Father of the Bride Part II (1995)</td>\n",
       "      <td>1995</td>\n",
       "      <td>False</td>\n",
       "      <td>False</td>\n",
       "      <td>False</td>\n",
       "      <td>False</td>\n",
       "      <td>True</td>\n",
       "      <td>False</td>\n",
       "      <td>False</td>\n",
       "      <td>...</td>\n",
       "      <td>False</td>\n",
       "      <td>False</td>\n",
       "      <td>False</td>\n",
       "      <td>False</td>\n",
       "      <td>False</td>\n",
       "      <td>False</td>\n",
       "      <td>False</td>\n",
       "      <td>False</td>\n",
       "      <td>False</td>\n",
       "      <td>False</td>\n",
       "    </tr>\n",
       "  </tbody>\n",
       "</table>\n",
       "<p>5 rows × 21 columns</p>\n",
       "</div>"
      ],
      "text/plain": [
       "   movie_id                               title release_year  Action  \\\n",
       "0         1                    Toy Story (1995)         1995   False   \n",
       "1         2                      Jumanji (1995)         1995   False   \n",
       "2         3             Grumpier Old Men (1995)         1995   False   \n",
       "3         4            Waiting to Exhale (1995)         1995   False   \n",
       "4         5  Father of the Bride Part II (1995)         1995   False   \n",
       "\n",
       "   Adventure  Animation  Children's  Comedy  Crime  Documentary  ...  Fantasy  \\\n",
       "0      False       True        True    True  False        False  ...    False   \n",
       "1       True      False        True   False  False        False  ...     True   \n",
       "2      False      False       False    True  False        False  ...    False   \n",
       "3      False      False       False    True  False        False  ...    False   \n",
       "4      False      False       False    True  False        False  ...    False   \n",
       "\n",
       "   Film-Noir  Horror  Musical  Mystery  Romance  Sci-Fi  Thriller    War  \\\n",
       "0      False   False    False    False    False   False     False  False   \n",
       "1      False   False    False    False    False   False     False  False   \n",
       "2      False   False    False    False     True   False     False  False   \n",
       "3      False   False    False    False    False   False     False  False   \n",
       "4      False   False    False    False    False   False     False  False   \n",
       "\n",
       "   Western  \n",
       "0    False  \n",
       "1    False  \n",
       "2    False  \n",
       "3    False  \n",
       "4    False  \n",
       "\n",
       "[5 rows x 21 columns]"
      ]
     },
     "execution_count": 56,
     "metadata": {},
     "output_type": "execute_result"
    }
   ],
   "source": [
    "df_movie.head()"
   ]
  },
  {
   "cell_type": "code",
   "execution_count": 57,
   "id": "22e66ef0-89ef-4d3d-8c74-80167ff1a5fe",
   "metadata": {},
   "outputs": [
    {
     "name": "stdout",
     "output_type": "stream",
     "text": [
      "Number of unique movie release years: 81\n"
     ]
    }
   ],
   "source": [
    "print('Number of unique movie release years:', df_movie.release_year.nunique())"
   ]
  },
  {
   "cell_type": "code",
   "execution_count": 58,
   "id": "cbe5e564-8d1b-4627-9302-99e7d8795b52",
   "metadata": {},
   "outputs": [
    {
     "name": "stdout",
     "output_type": "stream",
     "text": [
      "Movie years:  ['1919', '1920', '1921', '1922', '1923', '1925', '1926', '1927', '1928', '1929', '1930', '1931', '1932', '1933', '1934', '1935', '1936', '1937', '1938', '1939', '1940', '1941', '1942', '1943', '1944', '1945', '1946', '1947', '1948', '1949', '1950', '1951', '1952', '1953', '1954', '1955', '1956', '1957', '1958', '1959', '1960', '1961', '1962', '1963', '1964', '1965', '1966', '1967', '1968', '1969', '1970', '1971', '1972', '1973', '1974', '1975', '1976', '1977', '1978', '1979', '1980', '1981', '1982', '1983', '1984', '1985', '1986', '1987', '1988', '1989', '1990', '1991', '1992', '1993', '1994', '1995', '1996', '1997', '1998', '1999', '2000']\n"
     ]
    }
   ],
   "source": [
    "print(\"Movie years: \", sorted(df_movie['release_year'].unique()))\n"
   ]
  },
  {
   "cell_type": "code",
   "execution_count": 59,
   "id": "7fc8893a-a6f1-449b-8405-fcdd22b06c2d",
   "metadata": {},
   "outputs": [],
   "source": [
    "movie_counts = df_movie['release_year'].value_counts().dropna().sort_index()"
   ]
  },
  {
   "cell_type": "code",
   "execution_count": 60,
   "id": "23baa770-d844-4c9f-ab02-08c58e225603",
   "metadata": {},
   "outputs": [
    {
     "data": {
      "text/plain": [
       "1919      3\n",
       "1920      2\n",
       "1921      1\n",
       "1922      2\n",
       "1923      3\n",
       "       ... \n",
       "1996    345\n",
       "1997    315\n",
       "1998    337\n",
       "1999    283\n",
       "2000    156\n",
       "Name: release_year, Length: 81, dtype: int64"
      ]
     },
     "execution_count": 60,
     "metadata": {},
     "output_type": "execute_result"
    }
   ],
   "source": [
    "movie_counts"
   ]
  },
  {
   "cell_type": "code",
   "execution_count": 61,
   "id": "63b1cf04-acd6-4f1b-b12b-887ff45d15f0",
   "metadata": {},
   "outputs": [
    {
     "data": {
      "image/png": "[encoded data removed]",
      "text/plain": [
       "<Figure size 1440x216 with 1 Axes>"
      ]
     },
     "metadata": {
      "needs_background": "light"
     },
     "output_type": "display_data"
    }
   ],
   "source": [
    "# set the figure size\n",
    "plt.figure(figsize=(20, 3))\n",
    "\n",
    "# create a line plot of movie counts by year\n",
    "plt.plot(movie_counts.index, movie_counts.values)\n",
    "\n",
    "# set the x-axis label\n",
    "plt.xlabel('Year')\n",
    "\n",
    "# set the y-axis label\n",
    "plt.ylabel('Number of Movies')\n",
    "\n",
    "# set the plot title\n",
    "plt.title('Number of Movies Released per Year')\n",
    "\n",
    "\n",
    "plt.xticks(rotation=90)\n",
    "\n",
    "# display the plot\n",
    "plt.show()"
   ]
  },
  {
   "cell_type": "code",
   "execution_count": 62,
   "id": "165a1631-3ef0-4328-b862-d14d8743d362",
   "metadata": {},
   "outputs": [
    {
     "name": "stdout",
     "output_type": "stream",
     "text": [
      "Action          503\n",
      "Adventure       283\n",
      "Animation       105\n",
      "Children's      251\n",
      "Comedy         1200\n",
      "Crime           211\n",
      "Documentary     127\n",
      "Drama          1603\n",
      "Fantasy          68\n",
      "Film-Noir        44\n",
      "Horror          343\n",
      "Musical         114\n",
      "Mystery         106\n",
      "Romance         471\n",
      "Sci-Fi          276\n",
      "Thriller        492\n",
      "War             143\n",
      "Western          68\n",
      "dtype: int64\n"
     ]
    }
   ],
   "source": [
    "# get the count of each genre\n",
    "genre_counts = df_movie.iloc[:, 3:].sum()\n",
    "\n",
    "# print the genre counts\n",
    "print(genre_counts)"
   ]
  },
  {
   "cell_type": "code",
   "execution_count": 64,
   "id": "57d6e3ba-c30e-47a4-b5f8-dc3cec4443a3",
   "metadata": {},
   "outputs": [
    {
     "data": {
      "image/png": "[encoded data removed]",
      "text/plain": [
       "<Figure size 1440x720 with 1 Axes>"
      ]
     },
     "metadata": {
      "needs_background": "light"
     },
     "output_type": "display_data"
    }
   ],
   "source": [
    "plt.figure(figsize=(20, 10))\n",
    "\n",
    "# create a bar plot of the true counts for each genre\n",
    "plt.bar(genre_counts.index, genre_counts.values)\n",
    "\n",
    "# set the x-axis label\n",
    "plt.xlabel('Genre', fontsize=16)\n",
    "\n",
    "# set the y-axis label\n",
    "plt.ylabel('Number of Movies', fontsize=16)\n",
    "\n",
    "# set the plot title\n",
    "plt.title('Number of Movies by Genre', fontsize=20)\n",
    "\n",
    "# display the plot\n",
    "plt.show()"
   ]
  },
  {
   "cell_type": "code",
   "execution_count": 136,
   "id": "75c3f0f3-63e8-4390-ae63-8215bd54a5a0",
   "metadata": {},
   "outputs": [],
   "source": [
    "df_rating_movie_merged = pd.merge(df_rating, df_movie, on='movie_id')"
   ]
  },
  {
   "cell_type": "code",
   "execution_count": 137,
   "id": "0ba7d412-81a8-437a-8528-69492fa35c1b",
   "metadata": {},
   "outputs": [
    {
     "data": {
      "text/html": [
       "<div>\n",
       "<style scoped>\n",
       "    .dataframe tbody tr th:only-of-type {\n",
       "        vertical-align: middle;\n",
       "    }\n",
       "\n",
       "    .dataframe tbody tr th {\n",
       "        vertical-align: top;\n",
       "    }\n",
       "\n",
       "    .dataframe thead th {\n",
       "        text-align: right;\n",
       "    }\n",
       "</style>\n",
       "<table border=\"1\" class=\"dataframe\">\n",
       "  <thead>\n",
       "    <tr style=\"text-align: right;\">\n",
       "      <th></th>\n",
       "      <th>user_id</th>\n",
       "      <th>movie_id</th>\n",
       "      <th>rating</th>\n",
       "      <th>timestamp</th>\n",
       "      <th>year</th>\n",
       "      <th>month</th>\n",
       "      <th>date</th>\n",
       "      <th>title</th>\n",
       "      <th>release_year</th>\n",
       "      <th>Action</th>\n",
       "      <th>...</th>\n",
       "      <th>Fantasy</th>\n",
       "      <th>Film-Noir</th>\n",
       "      <th>Horror</th>\n",
       "      <th>Musical</th>\n",
       "      <th>Mystery</th>\n",
       "      <th>Romance</th>\n",
       "      <th>Sci-Fi</th>\n",
       "      <th>Thriller</th>\n",
       "      <th>War</th>\n",
       "      <th>Western</th>\n",
       "    </tr>\n",
       "  </thead>\n",
       "  <tbody>\n",
       "    <tr>\n",
       "      <th>0</th>\n",
       "      <td>1</td>\n",
       "      <td>1193</td>\n",
       "      <td>5</td>\n",
       "      <td>2000-12-31 17:12:40</td>\n",
       "      <td>2000</td>\n",
       "      <td>12</td>\n",
       "      <td>2000-12-31</td>\n",
       "      <td>One Flew Over the Cuckoo's Nest (1975)</td>\n",
       "      <td>1975</td>\n",
       "      <td>False</td>\n",
       "      <td>...</td>\n",
       "      <td>False</td>\n",
       "      <td>False</td>\n",
       "      <td>False</td>\n",
       "      <td>False</td>\n",
       "      <td>False</td>\n",
       "      <td>False</td>\n",
       "      <td>False</td>\n",
       "      <td>False</td>\n",
       "      <td>False</td>\n",
       "      <td>False</td>\n",
       "    </tr>\n",
       "    <tr>\n",
       "      <th>1</th>\n",
       "      <td>2</td>\n",
       "      <td>1193</td>\n",
       "      <td>5</td>\n",
       "      <td>2000-12-31 16:33:33</td>\n",
       "      <td>2000</td>\n",
       "      <td>12</td>\n",
       "      <td>2000-12-31</td>\n",
       "      <td>One Flew Over the Cuckoo's Nest (1975)</td>\n",
       "      <td>1975</td>\n",
       "      <td>False</td>\n",
       "      <td>...</td>\n",
       "      <td>False</td>\n",
       "      <td>False</td>\n",
       "      <td>False</td>\n",
       "      <td>False</td>\n",
       "      <td>False</td>\n",
       "      <td>False</td>\n",
       "      <td>False</td>\n",
       "      <td>False</td>\n",
       "      <td>False</td>\n",
       "      <td>False</td>\n",
       "    </tr>\n",
       "    <tr>\n",
       "      <th>2</th>\n",
       "      <td>12</td>\n",
       "      <td>1193</td>\n",
       "      <td>4</td>\n",
       "      <td>2000-12-30 18:49:39</td>\n",
       "      <td>2000</td>\n",
       "      <td>12</td>\n",
       "      <td>2000-12-30</td>\n",
       "      <td>One Flew Over the Cuckoo's Nest (1975)</td>\n",
       "      <td>1975</td>\n",
       "      <td>False</td>\n",
       "      <td>...</td>\n",
       "      <td>False</td>\n",
       "      <td>False</td>\n",
       "      <td>False</td>\n",
       "      <td>False</td>\n",
       "      <td>False</td>\n",
       "      <td>False</td>\n",
       "      <td>False</td>\n",
       "      <td>False</td>\n",
       "      <td>False</td>\n",
       "      <td>False</td>\n",
       "    </tr>\n",
       "    <tr>\n",
       "      <th>3</th>\n",
       "      <td>15</td>\n",
       "      <td>1193</td>\n",
       "      <td>4</td>\n",
       "      <td>2000-12-30 13:01:19</td>\n",
       "      <td>2000</td>\n",
       "      <td>12</td>\n",
       "      <td>2000-12-30</td>\n",
       "      <td>One Flew Over the Cuckoo's Nest (1975)</td>\n",
       "      <td>1975</td>\n",
       "      <td>False</td>\n",
       "      <td>...</td>\n",
       "      <td>False</td>\n",
       "      <td>False</td>\n",
       "      <td>False</td>\n",
       "      <td>False</td>\n",
       "      <td>False</td>\n",
       "      <td>False</td>\n",
       "      <td>False</td>\n",
       "      <td>False</td>\n",
       "      <td>False</td>\n",
       "      <td>False</td>\n",
       "    </tr>\n",
       "    <tr>\n",
       "      <th>4</th>\n",
       "      <td>17</td>\n",
       "      <td>1193</td>\n",
       "      <td>5</td>\n",
       "      <td>2000-12-30 01:41:11</td>\n",
       "      <td>2000</td>\n",
       "      <td>12</td>\n",
       "      <td>2000-12-30</td>\n",
       "      <td>One Flew Over the Cuckoo's Nest (1975)</td>\n",
       "      <td>1975</td>\n",
       "      <td>False</td>\n",
       "      <td>...</td>\n",
       "      <td>False</td>\n",
       "      <td>False</td>\n",
       "      <td>False</td>\n",
       "      <td>False</td>\n",
       "      <td>False</td>\n",
       "      <td>False</td>\n",
       "      <td>False</td>\n",
       "      <td>False</td>\n",
       "      <td>False</td>\n",
       "      <td>False</td>\n",
       "    </tr>\n",
       "  </tbody>\n",
       "</table>\n",
       "<p>5 rows × 27 columns</p>\n",
       "</div>"
      ],
      "text/plain": [
       "   user_id  movie_id  rating           timestamp  year  month        date  \\\n",
       "0        1      1193       5 2000-12-31 17:12:40  2000     12  2000-12-31   \n",
       "1        2      1193       5 2000-12-31 16:33:33  2000     12  2000-12-31   \n",
       "2       12      1193       4 2000-12-30 18:49:39  2000     12  2000-12-30   \n",
       "3       15      1193       4 2000-12-30 13:01:19  2000     12  2000-12-30   \n",
       "4       17      1193       5 2000-12-30 01:41:11  2000     12  2000-12-30   \n",
       "\n",
       "                                    title release_year  Action  ...  Fantasy  \\\n",
       "0  One Flew Over the Cuckoo's Nest (1975)         1975   False  ...    False   \n",
       "1  One Flew Over the Cuckoo's Nest (1975)         1975   False  ...    False   \n",
       "2  One Flew Over the Cuckoo's Nest (1975)         1975   False  ...    False   \n",
       "3  One Flew Over the Cuckoo's Nest (1975)         1975   False  ...    False   \n",
       "4  One Flew Over the Cuckoo's Nest (1975)         1975   False  ...    False   \n",
       "\n",
       "   Film-Noir  Horror  Musical  Mystery  Romance  Sci-Fi  Thriller    War  \\\n",
       "0      False   False    False    False    False   False     False  False   \n",
       "1      False   False    False    False    False   False     False  False   \n",
       "2      False   False    False    False    False   False     False  False   \n",
       "3      False   False    False    False    False   False     False  False   \n",
       "4      False   False    False    False    False   False     False  False   \n",
       "\n",
       "   Western  \n",
       "0    False  \n",
       "1    False  \n",
       "2    False  \n",
       "3    False  \n",
       "4    False  \n",
       "\n",
       "[5 rows x 27 columns]"
      ]
     },
     "execution_count": 137,
     "metadata": {},
     "output_type": "execute_result"
    }
   ],
   "source": [
    "df_rating_movie_merged.head()"
   ]
  },
  {
   "cell_type": "code",
   "execution_count": 138,
   "id": "eab04e69-adbe-4062-b276-516a5f59cdf7",
   "metadata": {},
   "outputs": [
    {
     "name": "stdout",
     "output_type": "stream",
     "text": [
      "<class 'pandas.core.frame.DataFrame'>\n",
      "Int64Index: 1000209 entries, 0 to 1000208\n",
      "Data columns (total 27 columns):\n",
      " #   Column        Non-Null Count    Dtype         \n",
      "---  ------        --------------    -----         \n",
      " 0   user_id       1000209 non-null  int64         \n",
      " 1   movie_id      1000209 non-null  int64         \n",
      " 2   rating        1000209 non-null  int64         \n",
      " 3   timestamp     1000209 non-null  datetime64[ns]\n",
      " 4   year          1000209 non-null  int64         \n",
      " 5   month         1000209 non-null  int64         \n",
      " 6   date          1000209 non-null  object        \n",
      " 7   title         1000209 non-null  object        \n",
      " 8   release_year  1000209 non-null  object        \n",
      " 9   Action        1000209 non-null  bool          \n",
      " 10  Adventure     1000209 non-null  bool          \n",
      " 11  Animation     1000209 non-null  bool          \n",
      " 12  Children's    1000209 non-null  bool          \n",
      " 13  Comedy        1000209 non-null  bool          \n",
      " 14  Crime         1000209 non-null  bool          \n",
      " 15  Documentary   1000209 non-null  bool          \n",
      " 16  Drama         1000209 non-null  bool          \n",
      " 17  Fantasy       1000209 non-null  bool          \n",
      " 18  Film-Noir     1000209 non-null  bool          \n",
      " 19  Horror        1000209 non-null  bool          \n",
      " 20  Musical       1000209 non-null  bool          \n",
      " 21  Mystery       1000209 non-null  bool          \n",
      " 22  Romance       1000209 non-null  bool          \n",
      " 23  Sci-Fi        1000209 non-null  bool          \n",
      " 24  Thriller      1000209 non-null  bool          \n",
      " 25  War           1000209 non-null  bool          \n",
      " 26  Western       1000209 non-null  bool          \n",
      "dtypes: bool(18), datetime64[ns](1), int64(5), object(3)\n",
      "memory usage: 93.5+ MB\n"
     ]
    }
   ],
   "source": [
    "df_rating_movie_merged.info()"
   ]
  },
  {
   "cell_type": "code",
   "execution_count": 155,
   "id": "96533ed6-ab6f-4d61-beb2-a5e55331bf90",
   "metadata": {},
   "outputs": [],
   "source": [
    "genre_columns = ['Action', 'Adventure', 'Animation', 'Children\\'s', 'Comedy', \n",
    "                 'Crime', 'Documentary', 'Drama', 'Fantasy', 'Film-Noir', 'Horror', \n",
    "                 'Musical', 'Mystery', 'Romance', 'Sci-Fi', 'Thriller', 'War', 'Western']"
   ]
  },
  {
   "cell_type": "code",
   "execution_count": 156,
   "id": "cdbbbee1-7755-4c62-ad14-6d9216ca552c",
   "metadata": {},
   "outputs": [
    {
     "name": "stdout",
     "output_type": "stream",
     "text": [
      "          genre  average_rating\n",
      "0        Action        3.491185\n",
      "1     Adventure        3.477257\n",
      "2     Animation        3.684868\n",
      "3    Children's        3.422035\n",
      "4        Comedy        3.522099\n",
      "5         Crime        3.708679\n",
      "6   Documentary        3.933123\n",
      "7         Drama        3.766332\n",
      "8       Fantasy        3.447371\n",
      "9     Film-Noir        4.075188\n",
      "10       Horror        3.215013\n",
      "11      Musical        3.665519\n",
      "12      Mystery        3.668102\n",
      "13      Romance        3.607465\n",
      "14       Sci-Fi        3.466521\n",
      "15     Thriller        3.570466\n",
      "16          War        3.893327\n",
      "17      Western        3.637770\n"
     ]
    }
   ],
   "source": [
    "data = []\n",
    "for genre in genre_columns:\n",
    "    avg_rating = df_rating_movie_merged[df_rating_movie_merged[genre] == True]['rating'].mean()\n",
    "    data.append({'genre': genre, 'average_rating': avg_rating})\n",
    "\n",
    "df_genre_ratings = pd.DataFrame(data)\n",
    "print(df_genre_ratings)"
   ]
  },
  {
   "cell_type": "code",
   "execution_count": 159,
   "id": "6aaa0082-0850-44c1-a6c6-5eb5ca799b87",
   "metadata": {},
   "outputs": [
    {
     "data": {
      "image/png": "[encoded data removed]",
      "text/plain": [
       "<Figure size 1440x360 with 1 Axes>"
      ]
     },
     "metadata": {
      "needs_background": "light"
     },
     "output_type": "display_data"
    }
   ],
   "source": [
    "# Create a bar chart\n",
    "plt.figure(figsize=(20, 5))\n",
    "\n",
    "plt.bar(df_genre_ratings['genre'], df_genre_ratings['average_rating'])\n",
    "\n",
    "\n",
    "\n",
    "# Set the title and axis labels\n",
    "plt.title('Average Ratings by Genre')\n",
    "plt.xlabel('Genre')\n",
    "plt.ylabel('Average Rating')\n",
    "\n",
    "# Rotate the x-axis labels for better readability\n",
    "plt.xticks(rotation=90)\n",
    "\n",
    "# Display the chart\n",
    "plt.show()"
   ]
  },
  {
   "cell_type": "code",
   "execution_count": 161,
   "id": "b2b181ff-8a15-4591-bec1-23aba7a8d5a5",
   "metadata": {},
   "outputs": [],
   "source": [
    "average_title_ratings = df_rating_movie_merged.groupby('title')['rating'].mean()"
   ]
  },
  {
   "cell_type": "code",
   "execution_count": 162,
   "id": "92e4698f-2930-406b-91fb-fd473f15ae31",
   "metadata": {},
   "outputs": [
    {
     "data": {
      "text/plain": [
       "title\n",
       "$1,000,000 Duck (1971)                        3.027027\n",
       "'Night Mother (1986)                          3.371429\n",
       "'Til There Was You (1997)                     2.692308\n",
       "'burbs, The (1989)                            2.910891\n",
       "...And Justice for All (1979)                 3.713568\n",
       "                                                ...   \n",
       "Zed & Two Noughts, A (1985)                   3.413793\n",
       "Zero Effect (1998)                            3.750831\n",
       "Zero Kelvin (Kjærlighetens kjøtere) (1995)    3.500000\n",
       "Zeus and Roxanne (1997)                       2.521739\n",
       "eXistenZ (1999)                               3.256098\n",
       "Name: rating, Length: 3706, dtype: float64"
      ]
     },
     "execution_count": 162,
     "metadata": {},
     "output_type": "execute_result"
    }
   ],
   "source": [
    "average_title_ratings"
   ]
  },
  {
   "cell_type": "code",
   "execution_count": 163,
   "id": "5c03027c-b560-4a48-a7a7-9432487c96d3",
   "metadata": {},
   "outputs": [
    {
     "data": {
      "text/plain": [
       "3706"
      ]
     },
     "execution_count": 163,
     "metadata": {},
     "output_type": "execute_result"
    }
   ],
   "source": [
    "df_rating_movie_merged['movie_id'].nunique()"
   ]
  },
  {
   "cell_type": "code",
   "execution_count": 165,
   "id": "cde63e01-45b6-4a81-83e8-ce8214f9c09c",
   "metadata": {},
   "outputs": [],
   "source": [
    "top_10_movies = average_title_ratings.nlargest(10)"
   ]
  },
  {
   "cell_type": "code",
   "execution_count": 166,
   "id": "558ecbf7-dc1f-4b0f-a6bd-defb6206b693",
   "metadata": {},
   "outputs": [
    {
     "data": {
      "text/plain": [
       "title\n",
       "Baby, The (1973)                             5.0\n",
       "Bittersweet Motel (2000)                     5.0\n",
       "Follow the Bitch (1998)                      5.0\n",
       "Gate of Heavenly Peace, The (1995)           5.0\n",
       "Lured (1947)                                 5.0\n",
       "One Little Indian (1973)                     5.0\n",
       "Schlafes Bruder (Brother of Sleep) (1995)    5.0\n",
       "Smashing Time (1967)                         5.0\n",
       "Song of Freedom (1936)                       5.0\n",
       "Ulysses (Ulisse) (1954)                      5.0\n",
       "Name: rating, dtype: float64"
      ]
     },
     "execution_count": 166,
     "metadata": {},
     "output_type": "execute_result"
    }
   ],
   "source": [
    "top_10_movies"
   ]
  },
  {
   "cell_type": "code",
   "execution_count": 167,
   "id": "1d44163a-9adb-473a-9912-91bb99085069",
   "metadata": {},
   "outputs": [],
   "source": [
    "average_title_ratings_more = df_rating_movie_merged.groupby('title').filter(lambda x: len(x) >= 10)\n",
    "\n",
    "# Calculate the mean rating for each title\n",
    "average_title_ratings_more = average_title_ratings_more.groupby('title')['rating'].mean()"
   ]
  },
  {
   "cell_type": "code",
   "execution_count": 169,
   "id": "4730fc33-e4d5-44f2-8b49-55b34362fb88",
   "metadata": {},
   "outputs": [],
   "source": [
    "top_10_movies_more = average_title_ratings_more.nlargest(10)"
   ]
  },
  {
   "cell_type": "code",
   "execution_count": 170,
   "id": "ffccc00f-07f2-407c-9c27-841a076c11aa",
   "metadata": {},
   "outputs": [
    {
     "data": {
      "text/plain": [
       "title\n",
       "Sanjuro (1962)                                                         4.608696\n",
       "Seven Samurai (The Magnificent Seven) (Shichinin no samurai) (1954)    4.560510\n",
       "Shawshank Redemption, The (1994)                                       4.554558\n",
       "Godfather, The (1972)                                                  4.524966\n",
       "Close Shave, A (1995)                                                  4.520548\n",
       "Usual Suspects, The (1995)                                             4.517106\n",
       "Schindler's List (1993)                                                4.510417\n",
       "Wrong Trousers, The (1993)                                             4.507937\n",
       "Sunset Blvd. (a.k.a. Sunset Boulevard) (1950)                          4.491489\n",
       "Raiders of the Lost Ark (1981)                                         4.477725\n",
       "Name: rating, dtype: float64"
      ]
     },
     "execution_count": 170,
     "metadata": {},
     "output_type": "execute_result"
    }
   ],
   "source": [
    "top_10_movies_more"
   ]
  }
 ],
 "metadata": {
  "kernelspec": {
   "display_name": "Python 3 (ipykernel)",
   "language": "python",
   "name": "python3"
  },
  "language_info": {
   "codemirror_mode": {
    "name": "ipython",
    "version": 3
   },
   "file_extension": ".py",
   "mimetype": "text/x-python",
   "name": "python",
   "nbconvert_exporter": "python",
   "pygments_lexer": "ipython3",
   "version": "3.9.12"
  }
 },
 "nbformat": 4,
 "nbformat_minor": 5
}
